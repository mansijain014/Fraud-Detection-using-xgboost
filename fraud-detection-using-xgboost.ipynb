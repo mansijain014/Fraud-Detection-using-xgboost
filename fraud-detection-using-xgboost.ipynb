{
 "cells": [
  {
   "cell_type": "code",
   "execution_count": 1,
   "id": "5766607b",
   "metadata": {
    "_cell_guid": "b1076dfc-b9ad-4769-8c92-a6c4dae69d19",
    "_uuid": "8f2839f25d086af736a60e9eeb907d3b93b6e0e5",
    "execution": {
     "iopub.execute_input": "2022-05-12T19:34:11.248181Z",
     "iopub.status.busy": "2022-05-12T19:34:11.247804Z",
     "iopub.status.idle": "2022-05-12T19:34:11.270178Z",
     "shell.execute_reply": "2022-05-12T19:34:11.269441Z"
    },
    "papermill": {
     "duration": 0.068357,
     "end_time": "2022-05-12T19:34:11.272701",
     "exception": false,
     "start_time": "2022-05-12T19:34:11.204344",
     "status": "completed"
    },
    "tags": []
   },
   "outputs": [
    {
     "name": "stdout",
     "output_type": "stream",
     "text": [
      "/kaggle/input/fraudulent-transaction-dataset/Fraud.csv\n",
      "/kaggle/input/fraudulent-transaction-dataset/Data Dictionary.txt\n"
     ]
    }
   ],
   "source": [
    "# This Python 3 environment comes with many helpful analytics libraries installed\n",
    "# It is defined by the kaggle/python Docker image: https://github.com/kaggle/docker-python\n",
    "# For example, here's several helpful packages to load\n",
    "\n",
    "import numpy as np # linear algebra\n",
    "import pandas as pd # data processing, CSV file I/O (e.g. pd.read_csv)\n",
    "\n",
    "# Input data files are available in the read-only \"../input/\" directory\n",
    "# For example, running this (by clicking run or pressing Shift+Enter) will list all files under the input directory\n",
    "\n",
    "import os\n",
    "for dirname, _, filenames in os.walk('/kaggle/input'):\n",
    "    for filename in filenames:\n",
    "        print(os.path.join(dirname, filename))\n",
    "\n",
    "# You can write up to 20GB to the current directory (/kaggle/working/) that gets preserved as output when you create a version using \"Save & Run All\" \n",
    "# You can also write temporary files to /kaggle/temp/, but they won't be saved outside of the current session"
   ]
  },
  {
   "cell_type": "markdown",
   "id": "adbb5467",
   "metadata": {
    "papermill": {
     "duration": 0.040756,
     "end_time": "2022-05-12T19:34:11.355454",
     "exception": false,
     "start_time": "2022-05-12T19:34:11.314698",
     "status": "completed"
    },
    "tags": []
   },
   "source": [
    "### Importing Libraries"
   ]
  },
  {
   "cell_type": "code",
   "execution_count": 2,
   "id": "665d8660",
   "metadata": {
    "execution": {
     "iopub.execute_input": "2022-05-12T19:34:11.443023Z",
     "iopub.status.busy": "2022-05-12T19:34:11.442718Z",
     "iopub.status.idle": "2022-05-12T19:34:12.668165Z",
     "shell.execute_reply": "2022-05-12T19:34:12.667103Z"
    },
    "papermill": {
     "duration": 1.271912,
     "end_time": "2022-05-12T19:34:12.670648",
     "exception": false,
     "start_time": "2022-05-12T19:34:11.398736",
     "status": "completed"
    },
    "tags": []
   },
   "outputs": [],
   "source": [
    "import matplotlib.pyplot as plt\n",
    "import seaborn as sns\n",
    "%matplotlib inline"
   ]
  },
  {
   "cell_type": "markdown",
   "id": "a68aa601",
   "metadata": {
    "papermill": {
     "duration": 0.041528,
     "end_time": "2022-05-12T19:34:12.756467",
     "exception": false,
     "start_time": "2022-05-12T19:34:12.714939",
     "status": "completed"
    },
    "tags": []
   },
   "source": [
    "### Reading Dataset"
   ]
  },
  {
   "cell_type": "code",
   "execution_count": 3,
   "id": "54235dbe",
   "metadata": {
    "execution": {
     "iopub.execute_input": "2022-05-12T19:34:12.845252Z",
     "iopub.status.busy": "2022-05-12T19:34:12.844917Z",
     "iopub.status.idle": "2022-05-12T19:34:34.851955Z",
     "shell.execute_reply": "2022-05-12T19:34:34.850945Z"
    },
    "papermill": {
     "duration": 22.053873,
     "end_time": "2022-05-12T19:34:34.854637",
     "exception": false,
     "start_time": "2022-05-12T19:34:12.800764",
     "status": "completed"
    },
    "tags": []
   },
   "outputs": [],
   "source": [
    "fraud_data = pd.read_csv(\"../input/fraudulent-transaction-dataset/Fraud.csv\")"
   ]
  },
  {
   "cell_type": "code",
   "execution_count": 4,
   "id": "0bd0352e",
   "metadata": {
    "execution": {
     "iopub.execute_input": "2022-05-12T19:34:34.938259Z",
     "iopub.status.busy": "2022-05-12T19:34:34.937949Z",
     "iopub.status.idle": "2022-05-12T19:34:34.982286Z",
     "shell.execute_reply": "2022-05-12T19:34:34.981170Z"
    },
    "papermill": {
     "duration": 0.088769,
     "end_time": "2022-05-12T19:34:34.984727",
     "exception": false,
     "start_time": "2022-05-12T19:34:34.895958",
     "status": "completed"
    },
    "tags": []
   },
   "outputs": [
    {
     "data": {
      "text/html": [
       "<div>\n",
       "<style scoped>\n",
       "    .dataframe tbody tr th:only-of-type {\n",
       "        vertical-align: middle;\n",
       "    }\n",
       "\n",
       "    .dataframe tbody tr th {\n",
       "        vertical-align: top;\n",
       "    }\n",
       "\n",
       "    .dataframe thead th {\n",
       "        text-align: right;\n",
       "    }\n",
       "</style>\n",
       "<table border=\"1\" class=\"dataframe\">\n",
       "  <thead>\n",
       "    <tr style=\"text-align: right;\">\n",
       "      <th></th>\n",
       "      <th>step</th>\n",
       "      <th>type</th>\n",
       "      <th>amount</th>\n",
       "      <th>nameOrig</th>\n",
       "      <th>oldbalanceOrg</th>\n",
       "      <th>newbalanceOrig</th>\n",
       "      <th>nameDest</th>\n",
       "      <th>oldbalanceDest</th>\n",
       "      <th>newbalanceDest</th>\n",
       "      <th>isFraud</th>\n",
       "      <th>isFlaggedFraud</th>\n",
       "    </tr>\n",
       "  </thead>\n",
       "  <tbody>\n",
       "    <tr>\n",
       "      <th>0</th>\n",
       "      <td>1</td>\n",
       "      <td>PAYMENT</td>\n",
       "      <td>9839.64</td>\n",
       "      <td>C1231006815</td>\n",
       "      <td>170136.00</td>\n",
       "      <td>160296.36</td>\n",
       "      <td>M1979787155</td>\n",
       "      <td>0.00</td>\n",
       "      <td>0.00</td>\n",
       "      <td>0</td>\n",
       "      <td>0</td>\n",
       "    </tr>\n",
       "    <tr>\n",
       "      <th>1</th>\n",
       "      <td>1</td>\n",
       "      <td>PAYMENT</td>\n",
       "      <td>1864.28</td>\n",
       "      <td>C1666544295</td>\n",
       "      <td>21249.00</td>\n",
       "      <td>19384.72</td>\n",
       "      <td>M2044282225</td>\n",
       "      <td>0.00</td>\n",
       "      <td>0.00</td>\n",
       "      <td>0</td>\n",
       "      <td>0</td>\n",
       "    </tr>\n",
       "    <tr>\n",
       "      <th>2</th>\n",
       "      <td>1</td>\n",
       "      <td>TRANSFER</td>\n",
       "      <td>181.00</td>\n",
       "      <td>C1305486145</td>\n",
       "      <td>181.00</td>\n",
       "      <td>0.00</td>\n",
       "      <td>C553264065</td>\n",
       "      <td>0.00</td>\n",
       "      <td>0.00</td>\n",
       "      <td>1</td>\n",
       "      <td>0</td>\n",
       "    </tr>\n",
       "    <tr>\n",
       "      <th>3</th>\n",
       "      <td>1</td>\n",
       "      <td>CASH_OUT</td>\n",
       "      <td>181.00</td>\n",
       "      <td>C840083671</td>\n",
       "      <td>181.00</td>\n",
       "      <td>0.00</td>\n",
       "      <td>C38997010</td>\n",
       "      <td>21182.00</td>\n",
       "      <td>0.00</td>\n",
       "      <td>1</td>\n",
       "      <td>0</td>\n",
       "    </tr>\n",
       "    <tr>\n",
       "      <th>4</th>\n",
       "      <td>1</td>\n",
       "      <td>PAYMENT</td>\n",
       "      <td>11668.14</td>\n",
       "      <td>C2048537720</td>\n",
       "      <td>41554.00</td>\n",
       "      <td>29885.86</td>\n",
       "      <td>M1230701703</td>\n",
       "      <td>0.00</td>\n",
       "      <td>0.00</td>\n",
       "      <td>0</td>\n",
       "      <td>0</td>\n",
       "    </tr>\n",
       "    <tr>\n",
       "      <th>...</th>\n",
       "      <td>...</td>\n",
       "      <td>...</td>\n",
       "      <td>...</td>\n",
       "      <td>...</td>\n",
       "      <td>...</td>\n",
       "      <td>...</td>\n",
       "      <td>...</td>\n",
       "      <td>...</td>\n",
       "      <td>...</td>\n",
       "      <td>...</td>\n",
       "      <td>...</td>\n",
       "    </tr>\n",
       "    <tr>\n",
       "      <th>6362615</th>\n",
       "      <td>743</td>\n",
       "      <td>CASH_OUT</td>\n",
       "      <td>339682.13</td>\n",
       "      <td>C786484425</td>\n",
       "      <td>339682.13</td>\n",
       "      <td>0.00</td>\n",
       "      <td>C776919290</td>\n",
       "      <td>0.00</td>\n",
       "      <td>339682.13</td>\n",
       "      <td>1</td>\n",
       "      <td>0</td>\n",
       "    </tr>\n",
       "    <tr>\n",
       "      <th>6362616</th>\n",
       "      <td>743</td>\n",
       "      <td>TRANSFER</td>\n",
       "      <td>6311409.28</td>\n",
       "      <td>C1529008245</td>\n",
       "      <td>6311409.28</td>\n",
       "      <td>0.00</td>\n",
       "      <td>C1881841831</td>\n",
       "      <td>0.00</td>\n",
       "      <td>0.00</td>\n",
       "      <td>1</td>\n",
       "      <td>0</td>\n",
       "    </tr>\n",
       "    <tr>\n",
       "      <th>6362617</th>\n",
       "      <td>743</td>\n",
       "      <td>CASH_OUT</td>\n",
       "      <td>6311409.28</td>\n",
       "      <td>C1162922333</td>\n",
       "      <td>6311409.28</td>\n",
       "      <td>0.00</td>\n",
       "      <td>C1365125890</td>\n",
       "      <td>68488.84</td>\n",
       "      <td>6379898.11</td>\n",
       "      <td>1</td>\n",
       "      <td>0</td>\n",
       "    </tr>\n",
       "    <tr>\n",
       "      <th>6362618</th>\n",
       "      <td>743</td>\n",
       "      <td>TRANSFER</td>\n",
       "      <td>850002.52</td>\n",
       "      <td>C1685995037</td>\n",
       "      <td>850002.52</td>\n",
       "      <td>0.00</td>\n",
       "      <td>C2080388513</td>\n",
       "      <td>0.00</td>\n",
       "      <td>0.00</td>\n",
       "      <td>1</td>\n",
       "      <td>0</td>\n",
       "    </tr>\n",
       "    <tr>\n",
       "      <th>6362619</th>\n",
       "      <td>743</td>\n",
       "      <td>CASH_OUT</td>\n",
       "      <td>850002.52</td>\n",
       "      <td>C1280323807</td>\n",
       "      <td>850002.52</td>\n",
       "      <td>0.00</td>\n",
       "      <td>C873221189</td>\n",
       "      <td>6510099.11</td>\n",
       "      <td>7360101.63</td>\n",
       "      <td>1</td>\n",
       "      <td>0</td>\n",
       "    </tr>\n",
       "  </tbody>\n",
       "</table>\n",
       "<p>6362620 rows × 11 columns</p>\n",
       "</div>"
      ],
      "text/plain": [
       "         step      type      amount     nameOrig  oldbalanceOrg  \\\n",
       "0           1   PAYMENT     9839.64  C1231006815      170136.00   \n",
       "1           1   PAYMENT     1864.28  C1666544295       21249.00   \n",
       "2           1  TRANSFER      181.00  C1305486145         181.00   \n",
       "3           1  CASH_OUT      181.00   C840083671         181.00   \n",
       "4           1   PAYMENT    11668.14  C2048537720       41554.00   \n",
       "...       ...       ...         ...          ...            ...   \n",
       "6362615   743  CASH_OUT   339682.13   C786484425      339682.13   \n",
       "6362616   743  TRANSFER  6311409.28  C1529008245     6311409.28   \n",
       "6362617   743  CASH_OUT  6311409.28  C1162922333     6311409.28   \n",
       "6362618   743  TRANSFER   850002.52  C1685995037      850002.52   \n",
       "6362619   743  CASH_OUT   850002.52  C1280323807      850002.52   \n",
       "\n",
       "         newbalanceOrig     nameDest  oldbalanceDest  newbalanceDest  isFraud  \\\n",
       "0             160296.36  M1979787155            0.00            0.00        0   \n",
       "1              19384.72  M2044282225            0.00            0.00        0   \n",
       "2                  0.00   C553264065            0.00            0.00        1   \n",
       "3                  0.00    C38997010        21182.00            0.00        1   \n",
       "4              29885.86  M1230701703            0.00            0.00        0   \n",
       "...                 ...          ...             ...             ...      ...   \n",
       "6362615            0.00   C776919290            0.00       339682.13        1   \n",
       "6362616            0.00  C1881841831            0.00            0.00        1   \n",
       "6362617            0.00  C1365125890        68488.84      6379898.11        1   \n",
       "6362618            0.00  C2080388513            0.00            0.00        1   \n",
       "6362619            0.00   C873221189      6510099.11      7360101.63        1   \n",
       "\n",
       "         isFlaggedFraud  \n",
       "0                     0  \n",
       "1                     0  \n",
       "2                     0  \n",
       "3                     0  \n",
       "4                     0  \n",
       "...                 ...  \n",
       "6362615               0  \n",
       "6362616               0  \n",
       "6362617               0  \n",
       "6362618               0  \n",
       "6362619               0  \n",
       "\n",
       "[6362620 rows x 11 columns]"
      ]
     },
     "execution_count": 4,
     "metadata": {},
     "output_type": "execute_result"
    }
   ],
   "source": [
    "fraud_data"
   ]
  },
  {
   "cell_type": "code",
   "execution_count": 5,
   "id": "65881f1f",
   "metadata": {
    "execution": {
     "iopub.execute_input": "2022-05-12T19:34:35.071172Z",
     "iopub.status.busy": "2022-05-12T19:34:35.070848Z",
     "iopub.status.idle": "2022-05-12T19:34:35.213946Z",
     "shell.execute_reply": "2022-05-12T19:34:35.213199Z"
    },
    "papermill": {
     "duration": 0.18913,
     "end_time": "2022-05-12T19:34:35.216325",
     "exception": false,
     "start_time": "2022-05-12T19:34:35.027195",
     "status": "completed"
    },
    "tags": []
   },
   "outputs": [],
   "source": [
    "fraud_data = fraud_data.drop(['step','nameOrig','nameDest','isFlaggedFraud'], axis=1)"
   ]
  },
  {
   "cell_type": "markdown",
   "id": "b7864223",
   "metadata": {
    "papermill": {
     "duration": 0.041902,
     "end_time": "2022-05-12T19:34:35.300221",
     "exception": false,
     "start_time": "2022-05-12T19:34:35.258319",
     "status": "completed"
    },
    "tags": []
   },
   "source": [
    "The 'isFlaggedFraud' field is kind of pointless to have when we already have the'isFraud' field so I'll be dropping this column. Also I don't think that fields like 'step','nameOrig' and 'nameDest' affects our target variable so dropping them won't do any harm as well."
   ]
  },
  {
   "cell_type": "code",
   "execution_count": 6,
   "id": "e2b95482",
   "metadata": {
    "execution": {
     "iopub.execute_input": "2022-05-12T19:34:35.385337Z",
     "iopub.status.busy": "2022-05-12T19:34:35.385006Z",
     "iopub.status.idle": "2022-05-12T19:34:36.958282Z",
     "shell.execute_reply": "2022-05-12T19:34:36.957344Z"
    },
    "papermill": {
     "duration": 1.618879,
     "end_time": "2022-05-12T19:34:36.960536",
     "exception": false,
     "start_time": "2022-05-12T19:34:35.341657",
     "status": "completed"
    },
    "tags": []
   },
   "outputs": [
    {
     "data": {
      "text/html": [
       "<div>\n",
       "<style scoped>\n",
       "    .dataframe tbody tr th:only-of-type {\n",
       "        vertical-align: middle;\n",
       "    }\n",
       "\n",
       "    .dataframe tbody tr th {\n",
       "        vertical-align: top;\n",
       "    }\n",
       "\n",
       "    .dataframe thead th {\n",
       "        text-align: right;\n",
       "    }\n",
       "</style>\n",
       "<table border=\"1\" class=\"dataframe\">\n",
       "  <thead>\n",
       "    <tr style=\"text-align: right;\">\n",
       "      <th></th>\n",
       "      <th>amount</th>\n",
       "      <th>oldbalanceOrg</th>\n",
       "      <th>newbalanceOrig</th>\n",
       "      <th>oldbalanceDest</th>\n",
       "      <th>newbalanceDest</th>\n",
       "      <th>isFraud</th>\n",
       "    </tr>\n",
       "  </thead>\n",
       "  <tbody>\n",
       "    <tr>\n",
       "      <th>count</th>\n",
       "      <td>6.362620e+06</td>\n",
       "      <td>6.362620e+06</td>\n",
       "      <td>6.362620e+06</td>\n",
       "      <td>6.362620e+06</td>\n",
       "      <td>6.362620e+06</td>\n",
       "      <td>6.362620e+06</td>\n",
       "    </tr>\n",
       "    <tr>\n",
       "      <th>mean</th>\n",
       "      <td>1.798619e+05</td>\n",
       "      <td>8.338831e+05</td>\n",
       "      <td>8.551137e+05</td>\n",
       "      <td>1.100702e+06</td>\n",
       "      <td>1.224996e+06</td>\n",
       "      <td>1.290820e-03</td>\n",
       "    </tr>\n",
       "    <tr>\n",
       "      <th>std</th>\n",
       "      <td>6.038582e+05</td>\n",
       "      <td>2.888243e+06</td>\n",
       "      <td>2.924049e+06</td>\n",
       "      <td>3.399180e+06</td>\n",
       "      <td>3.674129e+06</td>\n",
       "      <td>3.590480e-02</td>\n",
       "    </tr>\n",
       "    <tr>\n",
       "      <th>min</th>\n",
       "      <td>0.000000e+00</td>\n",
       "      <td>0.000000e+00</td>\n",
       "      <td>0.000000e+00</td>\n",
       "      <td>0.000000e+00</td>\n",
       "      <td>0.000000e+00</td>\n",
       "      <td>0.000000e+00</td>\n",
       "    </tr>\n",
       "    <tr>\n",
       "      <th>25%</th>\n",
       "      <td>1.338957e+04</td>\n",
       "      <td>0.000000e+00</td>\n",
       "      <td>0.000000e+00</td>\n",
       "      <td>0.000000e+00</td>\n",
       "      <td>0.000000e+00</td>\n",
       "      <td>0.000000e+00</td>\n",
       "    </tr>\n",
       "    <tr>\n",
       "      <th>50%</th>\n",
       "      <td>7.487194e+04</td>\n",
       "      <td>1.420800e+04</td>\n",
       "      <td>0.000000e+00</td>\n",
       "      <td>1.327057e+05</td>\n",
       "      <td>2.146614e+05</td>\n",
       "      <td>0.000000e+00</td>\n",
       "    </tr>\n",
       "    <tr>\n",
       "      <th>75%</th>\n",
       "      <td>2.087215e+05</td>\n",
       "      <td>1.073152e+05</td>\n",
       "      <td>1.442584e+05</td>\n",
       "      <td>9.430367e+05</td>\n",
       "      <td>1.111909e+06</td>\n",
       "      <td>0.000000e+00</td>\n",
       "    </tr>\n",
       "    <tr>\n",
       "      <th>max</th>\n",
       "      <td>9.244552e+07</td>\n",
       "      <td>5.958504e+07</td>\n",
       "      <td>4.958504e+07</td>\n",
       "      <td>3.560159e+08</td>\n",
       "      <td>3.561793e+08</td>\n",
       "      <td>1.000000e+00</td>\n",
       "    </tr>\n",
       "  </tbody>\n",
       "</table>\n",
       "</div>"
      ],
      "text/plain": [
       "             amount  oldbalanceOrg  newbalanceOrig  oldbalanceDest  \\\n",
       "count  6.362620e+06   6.362620e+06    6.362620e+06    6.362620e+06   \n",
       "mean   1.798619e+05   8.338831e+05    8.551137e+05    1.100702e+06   \n",
       "std    6.038582e+05   2.888243e+06    2.924049e+06    3.399180e+06   \n",
       "min    0.000000e+00   0.000000e+00    0.000000e+00    0.000000e+00   \n",
       "25%    1.338957e+04   0.000000e+00    0.000000e+00    0.000000e+00   \n",
       "50%    7.487194e+04   1.420800e+04    0.000000e+00    1.327057e+05   \n",
       "75%    2.087215e+05   1.073152e+05    1.442584e+05    9.430367e+05   \n",
       "max    9.244552e+07   5.958504e+07    4.958504e+07    3.560159e+08   \n",
       "\n",
       "       newbalanceDest       isFraud  \n",
       "count    6.362620e+06  6.362620e+06  \n",
       "mean     1.224996e+06  1.290820e-03  \n",
       "std      3.674129e+06  3.590480e-02  \n",
       "min      0.000000e+00  0.000000e+00  \n",
       "25%      0.000000e+00  0.000000e+00  \n",
       "50%      2.146614e+05  0.000000e+00  \n",
       "75%      1.111909e+06  0.000000e+00  \n",
       "max      3.561793e+08  1.000000e+00  "
      ]
     },
     "execution_count": 6,
     "metadata": {},
     "output_type": "execute_result"
    }
   ],
   "source": [
    "fraud_data.describe()"
   ]
  },
  {
   "cell_type": "markdown",
   "id": "c5839128",
   "metadata": {
    "papermill": {
     "duration": 0.043139,
     "end_time": "2022-05-12T19:34:37.046569",
     "exception": false,
     "start_time": "2022-05-12T19:34:37.003430",
     "status": "completed"
    },
    "tags": []
   },
   "source": [
    "1. In the above table it can be seen that the count value for each column is 6362620, this mean there are no missing values.\n",
    "2. The dataset is highly imbalanced as more that 75% data for 'isFraud' field is filled with 0s. "
   ]
  },
  {
   "cell_type": "code",
   "execution_count": 7,
   "id": "ec5fab97",
   "metadata": {
    "execution": {
     "iopub.execute_input": "2022-05-12T19:34:37.134156Z",
     "iopub.status.busy": "2022-05-12T19:34:37.133511Z",
     "iopub.status.idle": "2022-05-12T19:34:37.148300Z",
     "shell.execute_reply": "2022-05-12T19:34:37.147312Z"
    },
    "papermill": {
     "duration": 0.062133,
     "end_time": "2022-05-12T19:34:37.151146",
     "exception": false,
     "start_time": "2022-05-12T19:34:37.089013",
     "status": "completed"
    },
    "tags": []
   },
   "outputs": [
    {
     "name": "stdout",
     "output_type": "stream",
     "text": [
      "<class 'pandas.core.frame.DataFrame'>\n",
      "RangeIndex: 6362620 entries, 0 to 6362619\n",
      "Data columns (total 7 columns):\n",
      " #   Column          Dtype  \n",
      "---  ------          -----  \n",
      " 0   type            object \n",
      " 1   amount          float64\n",
      " 2   oldbalanceOrg   float64\n",
      " 3   newbalanceOrig  float64\n",
      " 4   oldbalanceDest  float64\n",
      " 5   newbalanceDest  float64\n",
      " 6   isFraud         int64  \n",
      "dtypes: float64(5), int64(1), object(1)\n",
      "memory usage: 339.8+ MB\n"
     ]
    }
   ],
   "source": [
    "fraud_data.info()"
   ]
  },
  {
   "cell_type": "markdown",
   "id": "4ea280f4",
   "metadata": {
    "papermill": {
     "duration": 0.043769,
     "end_time": "2022-05-12T19:34:37.237915",
     "exception": false,
     "start_time": "2022-05-12T19:34:37.194146",
     "status": "completed"
    },
    "tags": []
   },
   "source": [
    "### Data Visualization"
   ]
  },
  {
   "cell_type": "code",
   "execution_count": 8,
   "id": "6cbe623a",
   "metadata": {
    "execution": {
     "iopub.execute_input": "2022-05-12T19:34:37.325672Z",
     "iopub.status.busy": "2022-05-12T19:34:37.325056Z",
     "iopub.status.idle": "2022-05-12T19:34:37.863168Z",
     "shell.execute_reply": "2022-05-12T19:34:37.862028Z"
    },
    "papermill": {
     "duration": 0.584422,
     "end_time": "2022-05-12T19:34:37.865455",
     "exception": false,
     "start_time": "2022-05-12T19:34:37.281033",
     "status": "completed"
    },
    "tags": []
   },
   "outputs": [
    {
     "data": {
      "text/plain": [
       "type    5\n",
       "dtype: int64"
      ]
     },
     "execution_count": 8,
     "metadata": {},
     "output_type": "execute_result"
    }
   ],
   "source": [
    "fraud_data.select_dtypes('object').apply(pd.Series.nunique, axis=0).sort_values(ascending= True)"
   ]
  },
  {
   "cell_type": "code",
   "execution_count": 9,
   "id": "39485043",
   "metadata": {
    "execution": {
     "iopub.execute_input": "2022-05-12T19:34:37.954782Z",
     "iopub.status.busy": "2022-05-12T19:34:37.954438Z",
     "iopub.status.idle": "2022-05-12T19:34:38.655761Z",
     "shell.execute_reply": "2022-05-12T19:34:38.654867Z"
    },
    "papermill": {
     "duration": 0.748793,
     "end_time": "2022-05-12T19:34:38.658110",
     "exception": false,
     "start_time": "2022-05-12T19:34:37.909317",
     "status": "completed"
    },
    "tags": []
   },
   "outputs": [
    {
     "data": {
      "text/plain": [
       "[Text(0, 0, '6.35441e+06'), Text(0, 0, '8213')]"
      ]
     },
     "execution_count": 9,
     "metadata": {},
     "output_type": "execute_result"
    },
    {
     "data": {
      "image/png": "[encoded data removed]",
      "text/plain": [
       "<Figure size 432x288 with 1 Axes>"
      ]
     },
     "metadata": {
      "needs_background": "light"
     },
     "output_type": "display_data"
    }
   ],
   "source": [
    "ax = sns.countplot(x='isFraud', data=fraud_data)\n",
    "ax.bar_label(ax.containers[0])"
   ]
  },
  {
   "cell_type": "markdown",
   "id": "f4e201ea",
   "metadata": {
    "papermill": {
     "duration": 0.04409,
     "end_time": "2022-05-12T19:34:38.746337",
     "exception": false,
     "start_time": "2022-05-12T19:34:38.702247",
     "status": "completed"
    },
    "tags": []
   },
   "source": [
    "The above plot also shows that our dataset is highly imbalanced. So if use this dataset as it is, the predications will be biased. "
   ]
  },
  {
   "cell_type": "code",
   "execution_count": 10,
   "id": "199370e5",
   "metadata": {
    "execution": {
     "iopub.execute_input": "2022-05-12T19:34:38.838215Z",
     "iopub.status.busy": "2022-05-12T19:34:38.837902Z",
     "iopub.status.idle": "2022-05-12T19:34:39.134252Z",
     "shell.execute_reply": "2022-05-12T19:34:39.133182Z"
    },
    "papermill": {
     "duration": 0.345679,
     "end_time": "2022-05-12T19:34:39.136841",
     "exception": false,
     "start_time": "2022-05-12T19:34:38.791162",
     "status": "completed"
    },
    "tags": []
   },
   "outputs": [],
   "source": [
    "fraud = fraud_data[fraud_data['isFraud'] == 1]\n",
    "normal = fraud_data[fraud_data['isFraud'] == 0]"
   ]
  },
  {
   "cell_type": "code",
   "execution_count": 11,
   "id": "91ec5276",
   "metadata": {
    "execution": {
     "iopub.execute_input": "2022-05-12T19:34:39.228541Z",
     "iopub.status.busy": "2022-05-12T19:34:39.228191Z",
     "iopub.status.idle": "2022-05-12T19:34:39.234312Z",
     "shell.execute_reply": "2022-05-12T19:34:39.232987Z"
    },
    "papermill": {
     "duration": 0.054719,
     "end_time": "2022-05-12T19:34:39.236773",
     "exception": false,
     "start_time": "2022-05-12T19:34:39.182054",
     "status": "completed"
    },
    "tags": []
   },
   "outputs": [
    {
     "name": "stdout",
     "output_type": "stream",
     "text": [
      "(8213, 7)\n",
      "(6354407, 7)\n"
     ]
    }
   ],
   "source": [
    "print(fraud.shape)\n",
    "print(normal.shape)"
   ]
  },
  {
   "cell_type": "code",
   "execution_count": 12,
   "id": "820c1d39",
   "metadata": {
    "execution": {
     "iopub.execute_input": "2022-05-12T19:34:39.329756Z",
     "iopub.status.busy": "2022-05-12T19:34:39.328999Z",
     "iopub.status.idle": "2022-05-12T19:34:39.652570Z",
     "shell.execute_reply": "2022-05-12T19:34:39.651668Z"
    },
    "papermill": {
     "duration": 0.372099,
     "end_time": "2022-05-12T19:34:39.654906",
     "exception": false,
     "start_time": "2022-05-12T19:34:39.282807",
     "status": "completed"
    },
    "tags": []
   },
   "outputs": [
    {
     "data": {
      "text/html": [
       "<div>\n",
       "<style scoped>\n",
       "    .dataframe tbody tr th:only-of-type {\n",
       "        vertical-align: middle;\n",
       "    }\n",
       "\n",
       "    .dataframe tbody tr th {\n",
       "        vertical-align: top;\n",
       "    }\n",
       "\n",
       "    .dataframe thead th {\n",
       "        text-align: right;\n",
       "    }\n",
       "</style>\n",
       "<table border=\"1\" class=\"dataframe\">\n",
       "  <thead>\n",
       "    <tr style=\"text-align: right;\">\n",
       "      <th></th>\n",
       "      <th>Fraud Amount</th>\n",
       "      <th>Normal Amount</th>\n",
       "    </tr>\n",
       "  </thead>\n",
       "  <tbody>\n",
       "    <tr>\n",
       "      <th>count</th>\n",
       "      <td>8.213000e+03</td>\n",
       "      <td>6.354407e+06</td>\n",
       "    </tr>\n",
       "    <tr>\n",
       "      <th>mean</th>\n",
       "      <td>1.467967e+06</td>\n",
       "      <td>1.781970e+05</td>\n",
       "    </tr>\n",
       "    <tr>\n",
       "      <th>std</th>\n",
       "      <td>2.404253e+06</td>\n",
       "      <td>5.962370e+05</td>\n",
       "    </tr>\n",
       "    <tr>\n",
       "      <th>min</th>\n",
       "      <td>0.000000e+00</td>\n",
       "      <td>1.000000e-02</td>\n",
       "    </tr>\n",
       "    <tr>\n",
       "      <th>25%</th>\n",
       "      <td>1.270913e+05</td>\n",
       "      <td>1.336840e+04</td>\n",
       "    </tr>\n",
       "    <tr>\n",
       "      <th>50%</th>\n",
       "      <td>4.414234e+05</td>\n",
       "      <td>7.468472e+04</td>\n",
       "    </tr>\n",
       "    <tr>\n",
       "      <th>75%</th>\n",
       "      <td>1.517771e+06</td>\n",
       "      <td>2.083648e+05</td>\n",
       "    </tr>\n",
       "    <tr>\n",
       "      <th>max</th>\n",
       "      <td>1.000000e+07</td>\n",
       "      <td>9.244552e+07</td>\n",
       "    </tr>\n",
       "  </tbody>\n",
       "</table>\n",
       "</div>"
      ],
      "text/plain": [
       "       Fraud Amount  Normal Amount\n",
       "count  8.213000e+03   6.354407e+06\n",
       "mean   1.467967e+06   1.781970e+05\n",
       "std    2.404253e+06   5.962370e+05\n",
       "min    0.000000e+00   1.000000e-02\n",
       "25%    1.270913e+05   1.336840e+04\n",
       "50%    4.414234e+05   7.468472e+04\n",
       "75%    1.517771e+06   2.083648e+05\n",
       "max    1.000000e+07   9.244552e+07"
      ]
     },
     "execution_count": 12,
     "metadata": {},
     "output_type": "execute_result"
    }
   ],
   "source": [
    "pd.concat([fraud.amount.describe(), normal.amount.describe()], axis=1, keys=['Fraud Amount','Normal Amount'])"
   ]
  },
  {
   "cell_type": "code",
   "execution_count": 13,
   "id": "e70ab0af",
   "metadata": {
    "execution": {
     "iopub.execute_input": "2022-05-12T19:34:39.746692Z",
     "iopub.status.busy": "2022-05-12T19:34:39.746376Z",
     "iopub.status.idle": "2022-05-12T19:34:47.454948Z",
     "shell.execute_reply": "2022-05-12T19:34:47.453747Z"
    },
    "papermill": {
     "duration": 7.757761,
     "end_time": "2022-05-12T19:34:47.457817",
     "exception": false,
     "start_time": "2022-05-12T19:34:39.700056",
     "status": "completed"
    },
    "tags": []
   },
   "outputs": [
    {
     "data": {
      "text/plain": [
       "[Text(0, 0, '2.1515e+06'),\n",
       " Text(0, 0, '532909'),\n",
       " Text(0, 0, '2.2375e+06'),\n",
       " Text(0, 0, '41432'),\n",
       " Text(0, 0, '1.39928e+06')]"
      ]
     },
     "execution_count": 13,
     "metadata": {},
     "output_type": "execute_result"
    },
    {
     "data": {
      "image/png": "[encoded data removed]",
      "text/plain": [
       "<Figure size 432x288 with 1 Axes>"
      ]
     },
     "metadata": {
      "needs_background": "light"
     },
     "output_type": "display_data"
    }
   ],
   "source": [
    "ax = sns.countplot(x='type',data=fraud_data)\n",
    "ax.bar_label(ax.containers[0])"
   ]
  },
  {
   "cell_type": "code",
   "execution_count": 14,
   "id": "ccca604f",
   "metadata": {
    "execution": {
     "iopub.execute_input": "2022-05-12T19:34:47.557796Z",
     "iopub.status.busy": "2022-05-12T19:34:47.557468Z",
     "iopub.status.idle": "2022-05-12T19:34:48.892126Z",
     "shell.execute_reply": "2022-05-12T19:34:48.891178Z"
    },
    "papermill": {
     "duration": 1.387431,
     "end_time": "2022-05-12T19:34:48.894667",
     "exception": false,
     "start_time": "2022-05-12T19:34:47.507236",
     "status": "completed"
    },
    "tags": []
   },
   "outputs": [
    {
     "data": {
      "text/plain": [
       "<AxesSubplot:>"
      ]
     },
     "execution_count": 14,
     "metadata": {},
     "output_type": "execute_result"
    },
    {
     "data": {
      "image/png": "[encoded data removed]",
      "text/plain": [
       "<Figure size 1080x720 with 2 Axes>"
      ]
     },
     "metadata": {
      "needs_background": "light"
     },
     "output_type": "display_data"
    }
   ],
   "source": [
    "corr = fraud_data.corr()\n",
    "plt.figure(figsize=(15,10))\n",
    "sns.heatmap(corr, data=fraud_data, annot=True)"
   ]
  },
  {
   "cell_type": "markdown",
   "id": "94b4b198",
   "metadata": {
    "papermill": {
     "duration": 0.050483,
     "end_time": "2022-05-12T19:34:48.994508",
     "exception": false,
     "start_time": "2022-05-12T19:34:48.944025",
     "status": "completed"
    },
    "tags": []
   },
   "source": [
    "From the above heatmap it can be seen that we've the problem of multicollinearity in the following columns: -\n",
    "1. newbalanceOrig & oldbalanceOrg\n",
    "2. newbalanceDest & oldbalanceDest"
   ]
  },
  {
   "cell_type": "markdown",
   "id": "04fb902f",
   "metadata": {
    "papermill": {
     "duration": 0.049197,
     "end_time": "2022-05-12T19:34:49.093239",
     "exception": false,
     "start_time": "2022-05-12T19:34:49.044042",
     "status": "completed"
    },
    "tags": []
   },
   "source": [
    "### Data Preprocessing"
   ]
  },
  {
   "cell_type": "code",
   "execution_count": 15,
   "id": "1a5beb58",
   "metadata": {
    "execution": {
     "iopub.execute_input": "2022-05-12T19:34:49.192245Z",
     "iopub.status.busy": "2022-05-12T19:34:49.191657Z",
     "iopub.status.idle": "2022-05-12T19:34:51.462836Z",
     "shell.execute_reply": "2022-05-12T19:34:51.461861Z"
    },
    "papermill": {
     "duration": 2.323831,
     "end_time": "2022-05-12T19:34:51.465455",
     "exception": false,
     "start_time": "2022-05-12T19:34:49.141624",
     "status": "completed"
    },
    "tags": []
   },
   "outputs": [],
   "source": [
    "from sklearn.preprocessing import LabelEncoder\n",
    "fraud_data['type_label_encoded'] = LabelEncoder().fit_transform(fraud_data['type'])"
   ]
  },
  {
   "cell_type": "code",
   "execution_count": 16,
   "id": "e51c9824",
   "metadata": {
    "execution": {
     "iopub.execute_input": "2022-05-12T19:34:51.568744Z",
     "iopub.status.busy": "2022-05-12T19:34:51.568353Z",
     "iopub.status.idle": "2022-05-12T19:34:51.586134Z",
     "shell.execute_reply": "2022-05-12T19:34:51.585136Z"
    },
    "papermill": {
     "duration": 0.072527,
     "end_time": "2022-05-12T19:34:51.588348",
     "exception": false,
     "start_time": "2022-05-12T19:34:51.515821",
     "status": "completed"
    },
    "tags": []
   },
   "outputs": [
    {
     "data": {
      "text/html": [
       "<div>\n",
       "<style scoped>\n",
       "    .dataframe tbody tr th:only-of-type {\n",
       "        vertical-align: middle;\n",
       "    }\n",
       "\n",
       "    .dataframe tbody tr th {\n",
       "        vertical-align: top;\n",
       "    }\n",
       "\n",
       "    .dataframe thead th {\n",
       "        text-align: right;\n",
       "    }\n",
       "</style>\n",
       "<table border=\"1\" class=\"dataframe\">\n",
       "  <thead>\n",
       "    <tr style=\"text-align: right;\">\n",
       "      <th></th>\n",
       "      <th>type</th>\n",
       "      <th>amount</th>\n",
       "      <th>oldbalanceOrg</th>\n",
       "      <th>newbalanceOrig</th>\n",
       "      <th>oldbalanceDest</th>\n",
       "      <th>newbalanceDest</th>\n",
       "      <th>isFraud</th>\n",
       "      <th>type_label_encoded</th>\n",
       "    </tr>\n",
       "  </thead>\n",
       "  <tbody>\n",
       "    <tr>\n",
       "      <th>0</th>\n",
       "      <td>PAYMENT</td>\n",
       "      <td>9839.64</td>\n",
       "      <td>170136.0</td>\n",
       "      <td>160296.36</td>\n",
       "      <td>0.0</td>\n",
       "      <td>0.0</td>\n",
       "      <td>0</td>\n",
       "      <td>3</td>\n",
       "    </tr>\n",
       "    <tr>\n",
       "      <th>1</th>\n",
       "      <td>PAYMENT</td>\n",
       "      <td>1864.28</td>\n",
       "      <td>21249.0</td>\n",
       "      <td>19384.72</td>\n",
       "      <td>0.0</td>\n",
       "      <td>0.0</td>\n",
       "      <td>0</td>\n",
       "      <td>3</td>\n",
       "    </tr>\n",
       "    <tr>\n",
       "      <th>2</th>\n",
       "      <td>TRANSFER</td>\n",
       "      <td>181.00</td>\n",
       "      <td>181.0</td>\n",
       "      <td>0.00</td>\n",
       "      <td>0.0</td>\n",
       "      <td>0.0</td>\n",
       "      <td>1</td>\n",
       "      <td>4</td>\n",
       "    </tr>\n",
       "    <tr>\n",
       "      <th>3</th>\n",
       "      <td>CASH_OUT</td>\n",
       "      <td>181.00</td>\n",
       "      <td>181.0</td>\n",
       "      <td>0.00</td>\n",
       "      <td>21182.0</td>\n",
       "      <td>0.0</td>\n",
       "      <td>1</td>\n",
       "      <td>1</td>\n",
       "    </tr>\n",
       "    <tr>\n",
       "      <th>4</th>\n",
       "      <td>PAYMENT</td>\n",
       "      <td>11668.14</td>\n",
       "      <td>41554.0</td>\n",
       "      <td>29885.86</td>\n",
       "      <td>0.0</td>\n",
       "      <td>0.0</td>\n",
       "      <td>0</td>\n",
       "      <td>3</td>\n",
       "    </tr>\n",
       "  </tbody>\n",
       "</table>\n",
       "</div>"
      ],
      "text/plain": [
       "       type    amount  oldbalanceOrg  newbalanceOrig  oldbalanceDest  \\\n",
       "0   PAYMENT   9839.64       170136.0       160296.36             0.0   \n",
       "1   PAYMENT   1864.28        21249.0        19384.72             0.0   \n",
       "2  TRANSFER    181.00          181.0            0.00             0.0   \n",
       "3  CASH_OUT    181.00          181.0            0.00         21182.0   \n",
       "4   PAYMENT  11668.14        41554.0        29885.86             0.0   \n",
       "\n",
       "   newbalanceDest  isFraud  type_label_encoded  \n",
       "0             0.0        0                   3  \n",
       "1             0.0        0                   3  \n",
       "2             0.0        1                   4  \n",
       "3             0.0        1                   1  \n",
       "4             0.0        0                   3  "
      ]
     },
     "execution_count": 16,
     "metadata": {},
     "output_type": "execute_result"
    }
   ],
   "source": [
    "fraud_data.head()"
   ]
  },
  {
   "cell_type": "code",
   "execution_count": 17,
   "id": "0ff4dd71",
   "metadata": {
    "execution": {
     "iopub.execute_input": "2022-05-12T19:34:51.691840Z",
     "iopub.status.busy": "2022-05-12T19:34:51.691558Z",
     "iopub.status.idle": "2022-05-12T19:34:51.949673Z",
     "shell.execute_reply": "2022-05-12T19:34:51.948579Z"
    },
    "papermill": {
     "duration": 0.312634,
     "end_time": "2022-05-12T19:34:51.952268",
     "exception": false,
     "start_time": "2022-05-12T19:34:51.639634",
     "status": "completed"
    },
    "tags": []
   },
   "outputs": [],
   "source": [
    "from sklearn.model_selection import train_test_split\n",
    "from sklearn.preprocessing import StandardScaler\n",
    "\n",
    "X = fraud_data.drop(['isFraud','type'],axis=1)\n",
    "y = fraud_data['isFraud']"
   ]
  },
  {
   "cell_type": "markdown",
   "id": "2ee2c0db",
   "metadata": {
    "papermill": {
     "duration": 0.050868,
     "end_time": "2022-05-12T19:34:52.059452",
     "exception": false,
     "start_time": "2022-05-12T19:34:52.008584",
     "status": "completed"
    },
    "tags": []
   },
   "source": [
    "Since our dataset was found to be imbalanced therefore I am going to use SMOTE (Synthetic Minority Oversampling Technique) algorithm to make the data unbiased"
   ]
  },
  {
   "cell_type": "code",
   "execution_count": 18,
   "id": "4bbfb9cb",
   "metadata": {
    "execution": {
     "iopub.execute_input": "2022-05-12T19:34:52.162413Z",
     "iopub.status.busy": "2022-05-12T19:34:52.160815Z",
     "iopub.status.idle": "2022-05-12T19:34:55.986220Z",
     "shell.execute_reply": "2022-05-12T19:34:55.985238Z"
    },
    "papermill": {
     "duration": 3.880076,
     "end_time": "2022-05-12T19:34:55.989010",
     "exception": false,
     "start_time": "2022-05-12T19:34:52.108934",
     "status": "completed"
    },
    "tags": []
   },
   "outputs": [],
   "source": [
    "from imblearn.over_sampling import SMOTE\n",
    "\n",
    "sm = SMOTE(random_state=12)\n",
    "X_resampled, y_resampled = sm.fit_resample(X, y)"
   ]
  },
  {
   "cell_type": "code",
   "execution_count": 19,
   "id": "7170a723",
   "metadata": {
    "execution": {
     "iopub.execute_input": "2022-05-12T19:34:56.092247Z",
     "iopub.status.busy": "2022-05-12T19:34:56.091904Z",
     "iopub.status.idle": "2022-05-12T19:34:59.986345Z",
     "shell.execute_reply": "2022-05-12T19:34:59.985336Z"
    },
    "papermill": {
     "duration": 3.948989,
     "end_time": "2022-05-12T19:34:59.988675",
     "exception": false,
     "start_time": "2022-05-12T19:34:56.039686",
     "status": "completed"
    },
    "tags": []
   },
   "outputs": [
    {
     "data": {
      "text/html": [
       "<div>\n",
       "<style scoped>\n",
       "    .dataframe tbody tr th:only-of-type {\n",
       "        vertical-align: middle;\n",
       "    }\n",
       "\n",
       "    .dataframe tbody tr th {\n",
       "        vertical-align: top;\n",
       "    }\n",
       "\n",
       "    .dataframe thead th {\n",
       "        text-align: right;\n",
       "    }\n",
       "</style>\n",
       "<table border=\"1\" class=\"dataframe\">\n",
       "  <thead>\n",
       "    <tr style=\"text-align: right;\">\n",
       "      <th></th>\n",
       "      <th>amount</th>\n",
       "      <th>oldbalanceOrg</th>\n",
       "      <th>newbalanceOrig</th>\n",
       "      <th>oldbalanceDest</th>\n",
       "      <th>newbalanceDest</th>\n",
       "      <th>type_label_encoded</th>\n",
       "    </tr>\n",
       "  </thead>\n",
       "  <tbody>\n",
       "    <tr>\n",
       "      <th>count</th>\n",
       "      <td>1.270881e+07</td>\n",
       "      <td>1.270881e+07</td>\n",
       "      <td>1.270881e+07</td>\n",
       "      <td>1.270881e+07</td>\n",
       "      <td>1.270881e+07</td>\n",
       "      <td>1.270881e+07</td>\n",
       "    </tr>\n",
       "    <tr>\n",
       "      <th>mean</th>\n",
       "      <td>8.228849e+05</td>\n",
       "      <td>1.240640e+06</td>\n",
       "      <td>5.227803e+05</td>\n",
       "      <td>8.138292e+05</td>\n",
       "      <td>1.241847e+06</td>\n",
       "      <td>2.103564e+00</td>\n",
       "    </tr>\n",
       "    <tr>\n",
       "      <th>std</th>\n",
       "      <td>1.867015e+06</td>\n",
       "      <td>3.252794e+06</td>\n",
       "      <td>2.501732e+06</td>\n",
       "      <td>3.020094e+06</td>\n",
       "      <td>3.472738e+06</td>\n",
       "      <td>1.478144e+00</td>\n",
       "    </tr>\n",
       "    <tr>\n",
       "      <th>min</th>\n",
       "      <td>0.000000e+00</td>\n",
       "      <td>0.000000e+00</td>\n",
       "      <td>0.000000e+00</td>\n",
       "      <td>0.000000e+00</td>\n",
       "      <td>0.000000e+00</td>\n",
       "      <td>0.000000e+00</td>\n",
       "    </tr>\n",
       "    <tr>\n",
       "      <th>25%</th>\n",
       "      <td>3.708623e+04</td>\n",
       "      <td>1.061600e+04</td>\n",
       "      <td>0.000000e+00</td>\n",
       "      <td>0.000000e+00</td>\n",
       "      <td>0.000000e+00</td>\n",
       "      <td>1.000000e+00</td>\n",
       "    </tr>\n",
       "    <tr>\n",
       "      <th>50%</th>\n",
       "      <td>1.721041e+05</td>\n",
       "      <td>1.190436e+05</td>\n",
       "      <td>0.000000e+00</td>\n",
       "      <td>0.000000e+00</td>\n",
       "      <td>1.232240e+05</td>\n",
       "      <td>1.000000e+00</td>\n",
       "    </tr>\n",
       "    <tr>\n",
       "      <th>75%</th>\n",
       "      <td>5.414595e+05</td>\n",
       "      <td>7.946675e+05</td>\n",
       "      <td>0.000000e+00</td>\n",
       "      <td>5.103619e+05</td>\n",
       "      <td>1.086166e+06</td>\n",
       "      <td>4.000000e+00</td>\n",
       "    </tr>\n",
       "    <tr>\n",
       "      <th>max</th>\n",
       "      <td>9.244552e+07</td>\n",
       "      <td>5.958504e+07</td>\n",
       "      <td>4.958504e+07</td>\n",
       "      <td>3.560159e+08</td>\n",
       "      <td>3.561793e+08</td>\n",
       "      <td>4.000000e+00</td>\n",
       "    </tr>\n",
       "  </tbody>\n",
       "</table>\n",
       "</div>"
      ],
      "text/plain": [
       "             amount  oldbalanceOrg  newbalanceOrig  oldbalanceDest  \\\n",
       "count  1.270881e+07   1.270881e+07    1.270881e+07    1.270881e+07   \n",
       "mean   8.228849e+05   1.240640e+06    5.227803e+05    8.138292e+05   \n",
       "std    1.867015e+06   3.252794e+06    2.501732e+06    3.020094e+06   \n",
       "min    0.000000e+00   0.000000e+00    0.000000e+00    0.000000e+00   \n",
       "25%    3.708623e+04   1.061600e+04    0.000000e+00    0.000000e+00   \n",
       "50%    1.721041e+05   1.190436e+05    0.000000e+00    0.000000e+00   \n",
       "75%    5.414595e+05   7.946675e+05    0.000000e+00    5.103619e+05   \n",
       "max    9.244552e+07   5.958504e+07    4.958504e+07    3.560159e+08   \n",
       "\n",
       "       newbalanceDest  type_label_encoded  \n",
       "count    1.270881e+07        1.270881e+07  \n",
       "mean     1.241847e+06        2.103564e+00  \n",
       "std      3.472738e+06        1.478144e+00  \n",
       "min      0.000000e+00        0.000000e+00  \n",
       "25%      0.000000e+00        1.000000e+00  \n",
       "50%      1.232240e+05        1.000000e+00  \n",
       "75%      1.086166e+06        4.000000e+00  \n",
       "max      3.561793e+08        4.000000e+00  "
      ]
     },
     "execution_count": 19,
     "metadata": {},
     "output_type": "execute_result"
    }
   ],
   "source": [
    "X_resampled.describe()"
   ]
  },
  {
   "cell_type": "code",
   "execution_count": 20,
   "id": "aee2ab90",
   "metadata": {
    "execution": {
     "iopub.execute_input": "2022-05-12T19:35:00.095718Z",
     "iopub.status.busy": "2022-05-12T19:35:00.095160Z",
     "iopub.status.idle": "2022-05-12T19:35:00.429416Z",
     "shell.execute_reply": "2022-05-12T19:35:00.428292Z"
    },
    "papermill": {
     "duration": 0.388087,
     "end_time": "2022-05-12T19:35:00.431920",
     "exception": false,
     "start_time": "2022-05-12T19:35:00.043833",
     "status": "completed"
    },
    "tags": []
   },
   "outputs": [
    {
     "data": {
      "text/plain": [
       "count    12708814.0\n",
       "mean            0.5\n",
       "std             0.5\n",
       "min             0.0\n",
       "25%             0.0\n",
       "50%             0.5\n",
       "75%             1.0\n",
       "max             1.0\n",
       "Name: isFraud, dtype: float64"
      ]
     },
     "execution_count": 20,
     "metadata": {},
     "output_type": "execute_result"
    }
   ],
   "source": [
    "y_resampled.describe()"
   ]
  },
  {
   "cell_type": "code",
   "execution_count": 21,
   "id": "0031bfe0",
   "metadata": {
    "execution": {
     "iopub.execute_input": "2022-05-12T19:35:00.537855Z",
     "iopub.status.busy": "2022-05-12T19:35:00.536931Z",
     "iopub.status.idle": "2022-05-12T19:35:01.985508Z",
     "shell.execute_reply": "2022-05-12T19:35:01.984538Z"
    },
    "papermill": {
     "duration": 1.504197,
     "end_time": "2022-05-12T19:35:01.988545",
     "exception": false,
     "start_time": "2022-05-12T19:35:00.484348",
     "status": "completed"
    },
    "tags": []
   },
   "outputs": [
    {
     "name": "stderr",
     "output_type": "stream",
     "text": [
      "/opt/conda/lib/python3.7/site-packages/seaborn/_decorators.py:43: FutureWarning: Pass the following variable as a keyword arg: x. From version 0.12, the only valid positional argument will be `data`, and passing other arguments without an explicit keyword will result in an error or misinterpretation.\n",
      "  FutureWarning\n"
     ]
    },
    {
     "data": {
      "text/plain": [
       "[Text(0, 0, '6.35441e+06'), Text(0, 0, '6.35441e+06')]"
      ]
     },
     "execution_count": 21,
     "metadata": {},
     "output_type": "execute_result"
    },
    {
     "data": {
      "image/png": "[encoded data removed]",
      "text/plain": [
       "<Figure size 432x288 with 1 Axes>"
      ]
     },
     "metadata": {
      "needs_background": "light"
     },
     "output_type": "display_data"
    }
   ],
   "source": [
    "ax = sns.countplot(y_resampled[1:])\n",
    "ax.bar_label(ax.containers[0])"
   ]
  },
  {
   "cell_type": "markdown",
   "id": "f450ca3b",
   "metadata": {
    "papermill": {
     "duration": 0.053896,
     "end_time": "2022-05-12T19:35:02.099262",
     "exception": false,
     "start_time": "2022-05-12T19:35:02.045366",
     "status": "completed"
    },
    "tags": []
   },
   "source": [
    "Now the data is perfectly balanced."
   ]
  },
  {
   "cell_type": "code",
   "execution_count": 22,
   "id": "8c9683e5",
   "metadata": {
    "execution": {
     "iopub.execute_input": "2022-05-12T19:35:02.210688Z",
     "iopub.status.busy": "2022-05-12T19:35:02.210394Z",
     "iopub.status.idle": "2022-05-12T19:35:04.546223Z",
     "shell.execute_reply": "2022-05-12T19:35:04.545103Z"
    },
    "papermill": {
     "duration": 2.394753,
     "end_time": "2022-05-12T19:35:04.548972",
     "exception": false,
     "start_time": "2022-05-12T19:35:02.154219",
     "status": "completed"
    },
    "tags": []
   },
   "outputs": [],
   "source": [
    "X_train, X_test, y_train, y_test = train_test_split(X,y,test_size=0.3)\n",
    "\n",
    "std = StandardScaler()\n",
    "X_train_std = std.fit_transform(X_train)\n",
    "X_test_std = std.transform(X_test)"
   ]
  },
  {
   "cell_type": "markdown",
   "id": "07c99609",
   "metadata": {
    "papermill": {
     "duration": 0.053588,
     "end_time": "2022-05-12T19:35:04.656109",
     "exception": false,
     "start_time": "2022-05-12T19:35:04.602521",
     "status": "completed"
    },
    "tags": []
   },
   "source": [
    "As mentioned before there is a problem of multicollinearity in the dataset. So I'll use PCA to perform feature extraction and remove multicollinearity from the dataset"
   ]
  },
  {
   "cell_type": "code",
   "execution_count": 23,
   "id": "f8852b50",
   "metadata": {
    "execution": {
     "iopub.execute_input": "2022-05-12T19:35:04.763960Z",
     "iopub.status.busy": "2022-05-12T19:35:04.763365Z",
     "iopub.status.idle": "2022-05-12T19:35:06.139999Z",
     "shell.execute_reply": "2022-05-12T19:35:06.138872Z"
    },
    "papermill": {
     "duration": 1.434185,
     "end_time": "2022-05-12T19:35:06.142838",
     "exception": false,
     "start_time": "2022-05-12T19:35:04.708653",
     "status": "completed"
    },
    "tags": []
   },
   "outputs": [
    {
     "data": {
      "text/plain": [
       "Text(0, 0.5, '% variance explained')"
      ]
     },
     "execution_count": 23,
     "metadata": {},
     "output_type": "execute_result"
    },
    {
     "data": {
      "image/png": "[encoded data removed]",
      "text/plain": [
       "<Figure size 432x288 with 1 Axes>"
      ]
     },
     "metadata": {
      "needs_background": "light"
     },
     "output_type": "display_data"
    }
   ],
   "source": [
    "from sklearn.decomposition import PCA\n",
    "\n",
    "pca = PCA(n_components = X_train_std.shape[1])\n",
    "fraud_train_data_pca = pca.fit_transform(X_train_std)\n",
    "\n",
    "percent_var_explained = pca.explained_variance_/(np.sum(pca.explained_variance_))\n",
    "cumm_var_explained = np.cumsum(percent_var_explained)\n",
    "\n",
    "plt.plot(cumm_var_explained)\n",
    "plt.grid()\n",
    "plt.xlabel(\"n_components\")\n",
    "plt.ylabel(\"% variance explained\")"
   ]
  },
  {
   "cell_type": "code",
   "execution_count": 24,
   "id": "d321f576",
   "metadata": {
    "execution": {
     "iopub.execute_input": "2022-05-12T19:35:06.251991Z",
     "iopub.status.busy": "2022-05-12T19:35:06.251343Z",
     "iopub.status.idle": "2022-05-12T19:35:06.257118Z",
     "shell.execute_reply": "2022-05-12T19:35:06.256174Z"
    },
    "papermill": {
     "duration": 0.062686,
     "end_time": "2022-05-12T19:35:06.259224",
     "exception": false,
     "start_time": "2022-05-12T19:35:06.196538",
     "status": "completed"
    },
    "tags": []
   },
   "outputs": [
    {
     "data": {
      "text/plain": [
       "array([0.38742538, 0.73652302, 0.88460296, 0.99866128, 0.9998231 ,\n",
       "       1.        ])"
      ]
     },
     "execution_count": 24,
     "metadata": {},
     "output_type": "execute_result"
    }
   ],
   "source": [
    "cumm_var_explained"
   ]
  },
  {
   "cell_type": "markdown",
   "id": "04ecf949",
   "metadata": {
    "papermill": {
     "duration": 0.0539,
     "end_time": "2022-05-12T19:35:06.367599",
     "exception": false,
     "start_time": "2022-05-12T19:35:06.313699",
     "status": "completed"
    },
    "tags": []
   },
   "source": [
    "Since 99.86% of variance is captured by the first 3 PCA, hence we can put n_components = 3"
   ]
  },
  {
   "cell_type": "code",
   "execution_count": 25,
   "id": "fe0481f7",
   "metadata": {
    "execution": {
     "iopub.execute_input": "2022-05-12T19:35:06.478820Z",
     "iopub.status.busy": "2022-05-12T19:35:06.478268Z",
     "iopub.status.idle": "2022-05-12T19:35:13.042174Z",
     "shell.execute_reply": "2022-05-12T19:35:13.040462Z"
    },
    "papermill": {
     "duration": 6.624218,
     "end_time": "2022-05-12T19:35:13.046184",
     "exception": false,
     "start_time": "2022-05-12T19:35:06.421966",
     "status": "completed"
    },
    "tags": []
   },
   "outputs": [],
   "source": [
    "pca = PCA(n_components = 3)\n",
    "fraud_train_data_pca = pca.fit_transform(X_train_std)\n",
    "fraud_test_data_pca = pca.transform(X_test_std)"
   ]
  },
  {
   "cell_type": "code",
   "execution_count": 26,
   "id": "67a62b4e",
   "metadata": {
    "execution": {
     "iopub.execute_input": "2022-05-12T19:35:13.217727Z",
     "iopub.status.busy": "2022-05-12T19:35:13.216873Z",
     "iopub.status.idle": "2022-05-12T19:35:13.227877Z",
     "shell.execute_reply": "2022-05-12T19:35:13.227173Z"
    },
    "papermill": {
     "duration": 0.071969,
     "end_time": "2022-05-12T19:35:13.230137",
     "exception": false,
     "start_time": "2022-05-12T19:35:13.158168",
     "status": "completed"
    },
    "tags": []
   },
   "outputs": [
    {
     "data": {
      "text/html": [
       "<div>\n",
       "<style scoped>\n",
       "    .dataframe tbody tr th:only-of-type {\n",
       "        vertical-align: middle;\n",
       "    }\n",
       "\n",
       "    .dataframe tbody tr th {\n",
       "        vertical-align: top;\n",
       "    }\n",
       "\n",
       "    .dataframe thead th {\n",
       "        text-align: right;\n",
       "    }\n",
       "</style>\n",
       "<table border=\"1\" class=\"dataframe\">\n",
       "  <thead>\n",
       "    <tr style=\"text-align: right;\">\n",
       "      <th></th>\n",
       "      <th>0</th>\n",
       "      <th>1</th>\n",
       "      <th>2</th>\n",
       "    </tr>\n",
       "  </thead>\n",
       "  <tbody>\n",
       "    <tr>\n",
       "      <th>0</th>\n",
       "      <td>-0.900260</td>\n",
       "      <td>0.127366</td>\n",
       "      <td>0.458560</td>\n",
       "    </tr>\n",
       "    <tr>\n",
       "      <th>1</th>\n",
       "      <td>-0.910367</td>\n",
       "      <td>0.142715</td>\n",
       "      <td>0.457143</td>\n",
       "    </tr>\n",
       "    <tr>\n",
       "      <th>2</th>\n",
       "      <td>1.151826</td>\n",
       "      <td>-1.151311</td>\n",
       "      <td>-0.406661</td>\n",
       "    </tr>\n",
       "    <tr>\n",
       "      <th>3</th>\n",
       "      <td>-0.908306</td>\n",
       "      <td>0.144668</td>\n",
       "      <td>0.461497</td>\n",
       "    </tr>\n",
       "    <tr>\n",
       "      <th>4</th>\n",
       "      <td>0.660695</td>\n",
       "      <td>-0.686529</td>\n",
       "      <td>-0.845065</td>\n",
       "    </tr>\n",
       "  </tbody>\n",
       "</table>\n",
       "</div>"
      ],
      "text/plain": [
       "          0         1         2\n",
       "0 -0.900260  0.127366  0.458560\n",
       "1 -0.910367  0.142715  0.457143\n",
       "2  1.151826 -1.151311 -0.406661\n",
       "3 -0.908306  0.144668  0.461497\n",
       "4  0.660695 -0.686529 -0.845065"
      ]
     },
     "execution_count": 26,
     "metadata": {},
     "output_type": "execute_result"
    }
   ],
   "source": [
    "pd.DataFrame(fraud_train_data_pca).head()"
   ]
  },
  {
   "cell_type": "code",
   "execution_count": 27,
   "id": "5a4ec1b0",
   "metadata": {
    "execution": {
     "iopub.execute_input": "2022-05-12T19:35:13.341776Z",
     "iopub.status.busy": "2022-05-12T19:35:13.341433Z",
     "iopub.status.idle": "2022-05-12T19:35:14.178993Z",
     "shell.execute_reply": "2022-05-12T19:35:14.177955Z"
    },
    "papermill": {
     "duration": 0.89745,
     "end_time": "2022-05-12T19:35:14.181998",
     "exception": false,
     "start_time": "2022-05-12T19:35:13.284548",
     "status": "completed"
    },
    "tags": []
   },
   "outputs": [
    {
     "data": {
      "text/html": [
       "<div>\n",
       "<style scoped>\n",
       "    .dataframe tbody tr th:only-of-type {\n",
       "        vertical-align: middle;\n",
       "    }\n",
       "\n",
       "    .dataframe tbody tr th {\n",
       "        vertical-align: top;\n",
       "    }\n",
       "\n",
       "    .dataframe thead th {\n",
       "        text-align: right;\n",
       "    }\n",
       "</style>\n",
       "<table border=\"1\" class=\"dataframe\">\n",
       "  <thead>\n",
       "    <tr style=\"text-align: right;\">\n",
       "      <th></th>\n",
       "      <th>0</th>\n",
       "      <th>1</th>\n",
       "      <th>2</th>\n",
       "      <th>isFraud</th>\n",
       "    </tr>\n",
       "  </thead>\n",
       "  <tbody>\n",
       "    <tr>\n",
       "      <th>0</th>\n",
       "      <td>-0.900260</td>\n",
       "      <td>0.127366</td>\n",
       "      <td>0.458560</td>\n",
       "      <td>NaN</td>\n",
       "    </tr>\n",
       "    <tr>\n",
       "      <th>1</th>\n",
       "      <td>-0.910367</td>\n",
       "      <td>0.142715</td>\n",
       "      <td>0.457143</td>\n",
       "      <td>0.0</td>\n",
       "    </tr>\n",
       "    <tr>\n",
       "      <th>2</th>\n",
       "      <td>1.151826</td>\n",
       "      <td>-1.151311</td>\n",
       "      <td>-0.406661</td>\n",
       "      <td>1.0</td>\n",
       "    </tr>\n",
       "    <tr>\n",
       "      <th>3</th>\n",
       "      <td>-0.908306</td>\n",
       "      <td>0.144668</td>\n",
       "      <td>0.461497</td>\n",
       "      <td>1.0</td>\n",
       "    </tr>\n",
       "    <tr>\n",
       "      <th>4</th>\n",
       "      <td>0.660695</td>\n",
       "      <td>-0.686529</td>\n",
       "      <td>-0.845065</td>\n",
       "      <td>NaN</td>\n",
       "    </tr>\n",
       "  </tbody>\n",
       "</table>\n",
       "</div>"
      ],
      "text/plain": [
       "          0         1         2  isFraud\n",
       "0 -0.900260  0.127366  0.458560      NaN\n",
       "1 -0.910367  0.142715  0.457143      0.0\n",
       "2  1.151826 -1.151311 -0.406661      1.0\n",
       "3 -0.908306  0.144668  0.461497      1.0\n",
       "4  0.660695 -0.686529 -0.845065      NaN"
      ]
     },
     "execution_count": 27,
     "metadata": {},
     "output_type": "execute_result"
    }
   ],
   "source": [
    "fraud_data_pca = pd.DataFrame(fraud_train_data_pca)\n",
    "fraud_data_pca['isFraud'] = y_train\n",
    "fraud_data_pca.head()"
   ]
  },
  {
   "cell_type": "code",
   "execution_count": 28,
   "id": "de6d4956",
   "metadata": {
    "execution": {
     "iopub.execute_input": "2022-05-12T19:35:14.298181Z",
     "iopub.status.busy": "2022-05-12T19:35:14.297717Z",
     "iopub.status.idle": "2022-05-12T19:35:15.164044Z",
     "shell.execute_reply": "2022-05-12T19:35:15.163230Z"
    },
    "papermill": {
     "duration": 0.926904,
     "end_time": "2022-05-12T19:35:15.166378",
     "exception": false,
     "start_time": "2022-05-12T19:35:14.239474",
     "status": "completed"
    },
    "tags": []
   },
   "outputs": [
    {
     "data": {
      "text/plain": [
       "<AxesSubplot:>"
      ]
     },
     "execution_count": 28,
     "metadata": {},
     "output_type": "execute_result"
    },
    {
     "data": {
      "image/png": "[encoded data removed]",
      "text/plain": [
       "<Figure size 1080x720 with 2 Axes>"
      ]
     },
     "metadata": {
      "needs_background": "light"
     },
     "output_type": "display_data"
    }
   ],
   "source": [
    "corr = fraud_data_pca.corr()\n",
    "plt.figure(figsize=(15,10))\n",
    "sns.heatmap(corr, data= fraud_data_pca, annot=True)"
   ]
  },
  {
   "cell_type": "markdown",
   "id": "4607bd43",
   "metadata": {
    "papermill": {
     "duration": 0.058693,
     "end_time": "2022-05-12T19:35:15.281474",
     "exception": false,
     "start_time": "2022-05-12T19:35:15.222781",
     "status": "completed"
    },
    "tags": []
   },
   "source": [
    "Hence removed multicollinearity from the dataset"
   ]
  },
  {
   "cell_type": "markdown",
   "id": "5eb1b548",
   "metadata": {
    "papermill": {
     "duration": 0.056149,
     "end_time": "2022-05-12T19:35:15.394841",
     "exception": false,
     "start_time": "2022-05-12T19:35:15.338692",
     "status": "completed"
    },
    "tags": []
   },
   "source": [
    "### Model Fitting"
   ]
  },
  {
   "cell_type": "code",
   "execution_count": 29,
   "id": "cfbe9703",
   "metadata": {
    "execution": {
     "iopub.execute_input": "2022-05-12T19:35:15.508659Z",
     "iopub.status.busy": "2022-05-12T19:35:15.508363Z",
     "iopub.status.idle": "2022-05-12T19:37:27.106289Z",
     "shell.execute_reply": "2022-05-12T19:37:27.105234Z"
    },
    "papermill": {
     "duration": 131.658101,
     "end_time": "2022-05-12T19:37:27.109020",
     "exception": false,
     "start_time": "2022-05-12T19:35:15.450919",
     "status": "completed"
    },
    "tags": []
   },
   "outputs": [
    {
     "name": "stderr",
     "output_type": "stream",
     "text": [
      "/opt/conda/lib/python3.7/site-packages/xgboost/sklearn.py:797: UserWarning: `eval_metric` in `fit` method is deprecated for better compatibility with scikit-learn, use `eval_metric` in constructor or`set_params` instead.\n",
      "  UserWarning,\n"
     ]
    }
   ],
   "source": [
    "from xgboost import XGBClassifier\n",
    "\n",
    "xgb = XGBClassifier()\n",
    "xgb.fit(fraud_train_data_pca, y_train, eval_metric='aucpr')\n",
    "\n",
    "y_train_pred = xgb.predict(fraud_train_data_pca)\n",
    "y_test_pred = xgb.predict(fraud_test_data_pca)"
   ]
  },
  {
   "cell_type": "markdown",
   "id": "8d26af9f",
   "metadata": {
    "papermill": {
     "duration": 0.056539,
     "end_time": "2022-05-12T19:37:27.223954",
     "exception": false,
     "start_time": "2022-05-12T19:37:27.167415",
     "status": "completed"
    },
    "tags": []
   },
   "source": [
    "### Results"
   ]
  },
  {
   "cell_type": "code",
   "execution_count": 30,
   "id": "24bb82b4",
   "metadata": {
    "execution": {
     "iopub.execute_input": "2022-05-12T19:37:27.340650Z",
     "iopub.status.busy": "2022-05-12T19:37:27.340350Z",
     "iopub.status.idle": "2022-05-12T19:37:43.721071Z",
     "shell.execute_reply": "2022-05-12T19:37:43.719889Z"
    },
    "papermill": {
     "duration": 16.442863,
     "end_time": "2022-05-12T19:37:43.723374",
     "exception": false,
     "start_time": "2022-05-12T19:37:27.280511",
     "status": "completed"
    },
    "tags": []
   },
   "outputs": [
    {
     "name": "stdout",
     "output_type": "stream",
     "text": [
      "Training Report\n",
      "              precision    recall  f1-score   support\n",
      "\n",
      "           0       1.00      1.00      1.00   4449641\n",
      "           1       0.71      0.98      0.82      4193\n",
      "\n",
      "    accuracy                           1.00   4453834\n",
      "   macro avg       0.86      0.99      0.91   4453834\n",
      "weighted avg       1.00      1.00      1.00   4453834\n",
      "\n",
      "Accuracy Score:  0.9996023650634487\n",
      "F1 Score:  0.8221709006928407\n",
      "\n",
      "Testing Report\n",
      "              precision    recall  f1-score   support\n",
      "\n",
      "           0       1.00      1.00      1.00   1907004\n",
      "           1       0.71      0.97      0.82      1782\n",
      "\n",
      "    accuracy                           1.00   1908786\n",
      "   macro avg       0.85      0.99      0.91   1908786\n",
      "weighted avg       1.00      1.00      1.00   1908786\n",
      "\n",
      "Accuracy Score:  0.9995971261314783\n",
      "F1 Score:  0.8181603215890282\n"
     ]
    }
   ],
   "source": [
    "from sklearn.metrics import classification_report, confusion_matrix, f1_score, accuracy_score\n",
    "\n",
    "print('Training Report')\n",
    "print(classification_report(y_train_pred,y_train))\n",
    "print('Accuracy Score: ',accuracy_score(y_train_pred,y_train))\n",
    "print('F1 Score: ',f1_score(y_train_pred,y_train))\n",
    "print('\\nTesting Report')\n",
    "print(classification_report(y_test_pred,y_test))\n",
    "print('Accuracy Score: ',accuracy_score(y_test_pred,y_test))\n",
    "print('F1 Score: ',f1_score(y_test_pred,y_test))"
   ]
  },
  {
   "cell_type": "code",
   "execution_count": 31,
   "id": "76b60622",
   "metadata": {
    "execution": {
     "iopub.execute_input": "2022-05-12T19:37:43.844897Z",
     "iopub.status.busy": "2022-05-12T19:37:43.844415Z",
     "iopub.status.idle": "2022-05-12T19:37:44.773975Z",
     "shell.execute_reply": "2022-05-12T19:37:44.772901Z"
    },
    "papermill": {
     "duration": 0.993747,
     "end_time": "2022-05-12T19:37:44.776284",
     "exception": false,
     "start_time": "2022-05-12T19:37:43.782537",
     "status": "completed"
    },
    "tags": []
   },
   "outputs": [
    {
     "name": "stdout",
     "output_type": "stream",
     "text": [
      "For Training Data\n"
     ]
    },
    {
     "data": {
      "text/plain": [
       "array([[4447969,      99],\n",
       "       [   1672,    4094]])"
      ]
     },
     "execution_count": 31,
     "metadata": {},
     "output_type": "execute_result"
    }
   ],
   "source": [
    "print('For Training Data')\n",
    "confusion_matrix(y_train, y_train_pred)"
   ]
  },
  {
   "cell_type": "code",
   "execution_count": 32,
   "id": "21f3d970",
   "metadata": {
    "execution": {
     "iopub.execute_input": "2022-05-12T19:37:44.897951Z",
     "iopub.status.busy": "2022-05-12T19:37:44.897319Z",
     "iopub.status.idle": "2022-05-12T19:37:45.278072Z",
     "shell.execute_reply": "2022-05-12T19:37:45.277262Z"
    },
    "papermill": {
     "duration": 0.443421,
     "end_time": "2022-05-12T19:37:45.280172",
     "exception": false,
     "start_time": "2022-05-12T19:37:44.836751",
     "status": "completed"
    },
    "tags": []
   },
   "outputs": [
    {
     "name": "stdout",
     "output_type": "stream",
     "text": [
      "For Testing Data\n"
     ]
    },
    {
     "data": {
      "text/plain": [
       "array([[1906287,      52],\n",
       "       [    717,    1730]])"
      ]
     },
     "execution_count": 32,
     "metadata": {},
     "output_type": "execute_result"
    }
   ],
   "source": [
    "print('For Testing Data')\n",
    "confusion_matrix(y_test, y_test_pred)"
   ]
  }
 ],
 "metadata": {
  "kernelspec": {
   "display_name": "Python 3 (ipykernel)",
   "language": "python",
   "name": "python3"
  },
  "language_info": {
   "codemirror_mode": {
    "name": "ipython",
    "version": 3
   },
   "file_extension": ".py",
   "mimetype": "text/x-python",
   "name": "python",
   "nbconvert_exporter": "python",
   "pygments_lexer": "ipython3",
   "version": "3.9.7"
  },
  "papermill": {
   "default_parameters": {},
   "duration": 226.52642,
   "end_time": "2022-05-12T19:37:46.663673",
   "environment_variables": {},
   "exception": null,
   "input_path": "__notebook__.ipynb",
   "output_path": "__notebook__.ipynb",
   "parameters": {},
   "start_time": "2022-05-12T19:34:00.137253",
   "version": "2.3.4"
  }
 },
 "nbformat": 4,
 "nbformat_minor": 5
}
